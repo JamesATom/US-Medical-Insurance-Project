{
 "cells": [
  {
   "cell_type": "markdown",
   "metadata": {},
   "source": [
    "# U.S. Medical Insurance Costs\n",
    "\n",
    "In this project, I'm going to analyze the dataset inside **insurance.csv** file extention with .csv and learn more about the patient information and build foundation in data-science to prepare datasets for AI and ML modeling."
   ]
  },
  {
   "cell_type": "markdown",
   "metadata": {},
   "source": [
    "`Here, I'm importing csv package which handles of inputting and outputting from .csv to .csv file extentions`"
   ]
  },
  {
   "cell_type": "code",
   "execution_count": 1,
   "metadata": {},
   "outputs": [],
   "source": [
    "import csv"
   ]
  },
  {
   "cell_type": "markdown",
   "metadata": {},
   "source": [
    "`Insurance.csv contains the following columns:`\n",
    "\n",
    "- Patient Age\n",
    "- Patient Sex or Gender\n",
    "- Patient Body Measure Index or BMI\n",
    "- Patient Number of Children\n",
    "- Patient Status about smaoking\n",
    "- Patient region they live in\n",
    "- Patient Insurance Charges"
   ]
  },
  {
   "cell_type": "markdown",
   "metadata": {},
   "source": [
    "`Thus, I do create 2d Array to hold data in insurance.csv dataset to investigate further more.`"
   ]
  },
  {
   "cell_type": "code",
   "execution_count": 17,
   "metadata": {},
   "outputs": [],
   "source": [
    "patientData = [[]]\n",
    "columnNames = ['age', 'sex', 'bmi', 'children', 'smoker', 'region', 'charges']\n",
    "# There are no missing data in each column so it'll be easier to analyize the dataset."
   ]
  },
  {
   "cell_type": "markdown",
   "metadata": {},
   "source": [
    "***\n",
    "I do create Class called **ExtractData** to retrieve data from each column in insurance.csv extention and store them relative empty list\n",
    "***"
   ]
  },
  {
   "cell_type": "code",
   "execution_count": 23,
   "metadata": {},
   "outputs": [],
   "source": [
    "class ExtractData:\n",
    "    def loadDataToList(self, fromFile = 'insurance.csv', to = [], columnName = ''):\n",
    "        with open(fromFile) as csvFile:\n",
    "            orderedDictOfCsv = csv.DictReader(csvFile)\n",
    "            for row in orderedDictOfCsv:\n",
    "                to.append(row[columnName])\n",
    "    \n",
    "    def justIterate(self):\n",
    "        counter = 0\n",
    "        while counter < 7:\n",
    "            self.loadDataToList('insurance.csv', patientData[counter], columnNames[counter])\n",
    "            patientData.append([])\n",
    "            counter += 1\n",
    "\n",
    "one = ExtractData()\n",
    "one.justIterate()\n",
    "# print(patientData[0])"
   ]
  },
  {
   "cell_type": "markdown",
   "metadata": {},
   "source": [
    "*** \n",
    "### I do create Class called PatientInfo which has functions like:\n",
    "- Function to calculate average age of the patients\n",
    "- Function to calculate the amount of males vs females\n",
    "- Function to find geographical locations of patients\n",
    "- Function to find average yearly charges of patients\n",
    "- Function to create dictionary to store all patient information"
   ]
  },
  {
   "cell_type": "code",
   "execution_count": 39,
   "metadata": {},
   "outputs": [
    {
     "name": "stdout",
     "output_type": "stream",
     "text": [
      "Average Patient Age:  39\n",
      "Locations Patients live in:  ['southeast', 'southwest', 'northwest', 'northeast']\n",
      "Average yearly charges:  13270.0\n",
      "Number of male 2704 and Number of female 2648 patients.\n"
     ]
    }
   ],
   "source": [
    "class PatientInfo:\n",
    "    def __init__(self):\n",
    "        self.size = len(patientData[0])\n",
    "    \n",
    "    def calculateAverageAge(self):\n",
    "        totalSum = 0\n",
    "        for each in patientData[0]:\n",
    "            totalSum += int(each)\n",
    "        return totalSum // self.size\n",
    "    \n",
    "    def countNumOfMaleVsFemale(self):\n",
    "        male = 0\n",
    "        female = 0\n",
    "        for each in patientData[1]:\n",
    "            if each == 'male':\n",
    "                male += 1\n",
    "            else:\n",
    "                female += 1\n",
    "        return male, female\n",
    "    \n",
    "    def findAllGeoLocations(self):\n",
    "        hashGeoSet = set()\n",
    "        for each in patientData[5]:\n",
    "            if each not in hashGeoSet:\n",
    "                hashGeoSet.add(each)\n",
    "        return hashGeoSet\n",
    "    \n",
    "    def calculateAverageCharges(self):\n",
    "        totalCharges = 0\n",
    "        for each in patientData[6]:\n",
    "            totalCharges += float(each)\n",
    "        return totalCharges // self.size\n",
    "    \n",
    "patient = PatientInfo()\n",
    "print('Average Patient Age: ', patient.calculateAverageAge())\n",
    "print('Locations Patients live in: ', list(patient.findAllGeoLocations()))\n",
    "print('Average yearly charges: ', patient.calculateAverageCharges())\n",
    "male, female = patient.countNumOfMaleVsFemale()\n",
    "print('Number of male {0} and Number of female {1} patients.'.format(male, female))"
   ]
  },
  {
   "cell_type": "markdown",
   "metadata": {},
   "source": [
    "`All patient data is now neatly organized in a dictionary. This is convenient for further analysis if a decision is made to continue making investigations for the attributes in **insurance.csv**.`"
   ]
  }
 ],
 "metadata": {
  "kernelspec": {
   "display_name": "Python 3 (ipykernel)",
   "language": "python",
   "name": "python3"
  },
  "language_info": {
   "codemirror_mode": {
    "name": "ipython",
    "version": 3
   },
   "file_extension": ".py",
   "mimetype": "text/x-python",
   "name": "python",
   "nbconvert_exporter": "python",
   "pygments_lexer": "ipython3",
   "version": "3.11.4"
  }
 },
 "nbformat": 4,
 "nbformat_minor": 4
}
